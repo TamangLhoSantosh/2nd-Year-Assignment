{
 "cells": [
  {
   "cell_type": "code",
   "execution_count": 3,
   "id": "485f351e",
   "metadata": {},
   "outputs": [
    {
     "name": "stdout",
     "output_type": "stream",
     "text": [
      "Train :  [0.3 0.4 0.5 0.6 0.7 0.8] Test :  [0.1 0.2]\n",
      "Train :  [0.1 0.2 0.5 0.6 0.7 0.8] Test :  [0.3 0.4]\n",
      "Train :  [0.1 0.2 0.3 0.4 0.7 0.8] Test :  [0.5 0.6]\n",
      "Train :  [0.1 0.2 0.3 0.4 0.5 0.6] Test :  [0.7 0.8]\n"
     ]
    }
   ],
   "source": [
    "# K-fold cross validation\n",
    "\n",
    "import numpy as np\n",
    "from sklearn.model_selection import KFold\n",
    "\n",
    "X = np.array([0.1, 0.2, 0.3, 0.4, 0.5, 0.6, 0.7, 0.8])\n",
    "y = np.array([1, 2, 3, 4, 5, 6, 7, 8])\n",
    "\n",
    "kf = KFold(n_splits=4)\n",
    "\n",
    "for train_index, validation_index in kf.split(X):\n",
    "    print(\"Train : \", X[train_index], \"Test : \", X[validation_index])"
   ]
  },
  {
   "cell_type": "code",
   "execution_count": 26,
   "id": "e522112f",
   "metadata": {},
   "outputs": [
    {
     "name": "stdout",
     "output_type": "stream",
     "text": [
      "Cross Validation Scores :  [1.         0.93333333 0.93333333 0.93333333 0.8        1.\n",
      " 0.86666667 1.         1.         1.        ]\n",
      "Average Accuracy :  0.9466666666666667\n"
     ]
    }
   ],
   "source": [
    "import numpy as np\n",
    "\n",
    "from sklearn import decomposition, datasets\n",
    "from sklearn.model_selection import train_test_split, cross_val_score\n",
    "from sklearn.neural_network import MLPClassifier\n",
    "\n",
    "iris = datasets.load_iris()\n",
    "X = iris.data\n",
    "Y = iris.target\n",
    "\n",
    "X_train, X_test, Y_train, Y_test = train_test_split(X, Y, test_size = 0.2)\n",
    "\n",
    "nof_pca = 2\n",
    "\n",
    "pca = decomposition.PCA(n_components=nof_pca, svd_solver='full').fit(X_train)\n",
    "\n",
    "X_train_pca = pca.transform(X_train)\n",
    "X_test_pca = pca.transform(X_test)\n",
    "\n",
    "nohn = 50\n",
    "\n",
    "clf = MLPClassifier(hidden_layer_sizes=(nohn,), solver='sgd', activation='tanh',\n",
    "                    batch_size = 15, verbose = False, early_stopping = True).fit(X_train_pca, Y_train)\n",
    "\n",
    "Y_pred = clf.predict(X_test_pca)\n",
    "\n",
    "cross_val_result = cross_val_score(clf, X, Y, cv=10)\n",
    "\n",
    "print(\"Cross Validation Scores : \", cross_val_result)\n",
    "print(\"Average Accuracy : \", np.mean(cross_val_result))"
   ]
  }
 ],
 "metadata": {
  "kernelspec": {
   "display_name": "Python 3 (ipykernel)",
   "language": "python",
   "name": "python3"
  },
  "language_info": {
   "codemirror_mode": {
    "name": "ipython",
    "version": 3
   },
   "file_extension": ".py",
   "mimetype": "text/x-python",
   "name": "python",
   "nbconvert_exporter": "python",
   "pygments_lexer": "ipython3",
   "version": "3.10.7"
  }
 },
 "nbformat": 4,
 "nbformat_minor": 5
}
