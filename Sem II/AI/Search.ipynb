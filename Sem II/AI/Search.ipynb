{
 "cells": [
  {
   "cell_type": "markdown",
   "id": "67df59f1",
   "metadata": {},
   "source": [
    "# Foundation of AI Search Algorithms\n",
    "\n",
    "## Basic Data Structure : Stack"
   ]
  },
  {
   "cell_type": "code",
   "execution_count": 1,
   "id": "34ef277d",
   "metadata": {},
   "outputs": [],
   "source": [
    "class Stack:\n",
    "    \n",
    "    def __init__(self):\n",
    "        self.stack = []\n",
    "        \n",
    "    def isEmpty(self):\n",
    "        if len(self.stack) <= 0:\n",
    "            return True\n",
    "        else:\n",
    "            return False\n",
    "        \n",
    "    def push(self, element):\n",
    "        self.stack.append(element)\n",
    "        \n",
    "    def pop(self):\n",
    "        return self.stack.pop()"
   ]
  },
  {
   "cell_type": "code",
   "execution_count": 2,
   "id": "89676adf",
   "metadata": {},
   "outputs": [],
   "source": [
    "s = Stack()\n",
    "\n",
    "s.push(4)\n",
    "s.push(10)\n",
    "s.push(3)"
   ]
  },
  {
   "cell_type": "code",
   "execution_count": 3,
   "id": "eb902324",
   "metadata": {},
   "outputs": [
    {
     "name": "stdout",
     "output_type": "stream",
     "text": [
      "[4, 10, 3]\n"
     ]
    }
   ],
   "source": [
    "print(s.stack)"
   ]
  },
  {
   "cell_type": "code",
   "execution_count": 4,
   "id": "33ec70e9",
   "metadata": {},
   "outputs": [
    {
     "name": "stdout",
     "output_type": "stream",
     "text": [
      "[4, 10]\n"
     ]
    }
   ],
   "source": [
    "s.pop()\n",
    "print(s.stack)"
   ]
  },
  {
   "cell_type": "markdown",
   "id": "c94d016a",
   "metadata": {},
   "source": [
    "# Queue"
   ]
  },
  {
   "cell_type": "code",
   "execution_count": 5,
   "id": "f6ce4860",
   "metadata": {},
   "outputs": [],
   "source": [
    "class Queue:\n",
    "    \n",
    "    def __init__(self):\n",
    "        self.queue = []\n",
    "        \n",
    "    def isEmpty(self):\n",
    "        if len(self.queue) <= 0:\n",
    "            return True\n",
    "        else:\n",
    "            return False\n",
    "        \n",
    "    def enqueue(self, element):\n",
    "        self.queue.append(element)\n",
    "        \n",
    "    def dequeue(self):\n",
    "        element = self.queue[0:1]\n",
    "        del self.queue[0]\n",
    "        return element"
   ]
  },
  {
   "cell_type": "code",
   "execution_count": 6,
   "id": "81622ec2",
   "metadata": {},
   "outputs": [],
   "source": [
    "q = Queue()\n",
    "\n",
    "q.enqueue(8)\n",
    "q.enqueue(2)\n",
    "q.enqueue(7)\n",
    "q.enqueue(1)\n",
    "q.enqueue(5)\n",
    "q.enqueue(3)"
   ]
  },
  {
   "cell_type": "code",
   "execution_count": 7,
   "id": "56066fe6",
   "metadata": {},
   "outputs": [
    {
     "name": "stdout",
     "output_type": "stream",
     "text": [
      "[8, 2, 7, 1, 5, 3]\n"
     ]
    }
   ],
   "source": [
    "print(q.queue)"
   ]
  },
  {
   "cell_type": "code",
   "execution_count": 8,
   "id": "d65d90d1",
   "metadata": {},
   "outputs": [
    {
     "name": "stdout",
     "output_type": "stream",
     "text": [
      "[2, 7, 1, 5, 3]\n"
     ]
    }
   ],
   "source": [
    "q.dequeue()\n",
    "print(q.queue)"
   ]
  },
  {
   "cell_type": "markdown",
   "id": "d9b756a1",
   "metadata": {},
   "source": [
    "# Graph"
   ]
  },
  {
   "cell_type": "code",
   "execution_count": 23,
   "id": "82130455",
   "metadata": {},
   "outputs": [],
   "source": [
    "import numpy as np\n",
    "import networkx as nx\n",
    "from matplotlib import pyplot as plt\n",
    "\n",
    "class Graph:\n",
    "    def __init__(self, maxNodes):\n",
    "        self.maxNodex = maxNodes\n",
    "        self.nodes = []\n",
    "        self.edges = np.array([[0] * maxNodes] * maxNodes)\n",
    "    \n",
    "    def addNode(self, node):\n",
    "        if len(self.nodes) >= 5:\n",
    "            print('Max no. of nodes reached.')\n",
    "        else:\n",
    "            self.nodes.append(node)\n",
    "        \n",
    "    def addEdge(self, frm, to, weight):      \n",
    "        fromIndex = self.nodes.index(frm)\n",
    "        toIndex = self.nodes.index(to)\n",
    "        \n",
    "        self.edges[fromIndex][toIndex] = weight\n",
    "    \n",
    "    def successor(self, frm):\n",
    "        succ = []\n",
    "        \n",
    "        fromIndex = self.nodes.index(frm)\n",
    "        \n",
    "        for idx, value in np.ndenumerate(self.edges[fromIndex]):\n",
    "            if value > 0:\n",
    "                succ.append(self.nodes[idx[0]])\n",
    "        return succ\n",
    "    \n",
    "    def predecessor(self, to):\n",
    "        pred = []\n",
    "        \n",
    "        toIndex = self.nodes.index(to)\n",
    "        \n",
    "        for idx, value in np.ndenumerate(self.edges[:,toIndex]):\n",
    "            if value > 0:\n",
    "                pred.append(self.nodes[idx[0]])\n",
    "        return pred\n",
    "    \n",
    "    # Reference: \n",
    "    # https://networkx.org/documentation/stable/auto_examples/drawing/plot_weighted_graph.html\n",
    "    def plotGraph(self):\n",
    "        g = nx.DiGraph()\n",
    "        for frmNode in self.nodes:\n",
    "            frmIdx = self.nodes.index(frmNode)\n",
    "            for toNode in self.nodes:                \n",
    "                toIdx = self.nodes.index(toNode)\n",
    "                if self.edges[frmIdx][toIdx] > 0:\n",
    "                    g.add_edge(frmNode, \n",
    "                               toNode, \n",
    "                               weight = self.edges[frmIdx][toIdx])\n",
    "        \n",
    "        pos = nx.spring_layout(g)  # positions for all nodes\n",
    "\n",
    "        # nodes\n",
    "        nx.draw_networkx_nodes(g, \n",
    "                               pos, \n",
    "                               node_size=700)\n",
    "\n",
    "        # edges\n",
    "        nx.draw_networkx_edges(g, \n",
    "                               pos, \n",
    "                               width=3,\n",
    "                               connectionstyle='arc3, rad = 0.1')\n",
    "\n",
    "        # node labels\n",
    "        nx.draw_networkx_labels(g, \n",
    "                                pos, \n",
    "                                font_size=20, \n",
    "                                font_family=\"sans-serif\")\n",
    "        # edge weight labels\n",
    "        edge_labels = nx.get_edge_attributes(g, \"weight\")\n",
    "        nx.draw_networkx_edge_labels(g, \n",
    "                                     pos, \n",
    "                                     edge_labels)\n",
    "\n",
    "        ax = plt.gca()\n",
    "        ax.margins(0.08)\n",
    "        plt.axis(\"off\")\n",
    "        plt.tight_layout()\n",
    "        plt.show()"
   ]
  },
  {
   "cell_type": "code",
   "execution_count": 26,
   "id": "2b4a197a",
   "metadata": {},
   "outputs": [
    {
     "name": "stdout",
     "output_type": "stream",
     "text": [
      "['Kathmandu', 'Lalitpur', 'Bhaktpur', 'Nuwakot', 'Dhadhing']\n",
      "[[ 0 10 30  0 60]\n",
      " [ 0  0 20  0  0]\n",
      " [ 0  0  0  0  0]\n",
      " [ 0  0  0  0  0]\n",
      " [ 0  0  0 50  0]]\n"
     ]
    }
   ],
   "source": [
    "g = Graph(5)\n",
    "\n",
    "g.addNode(\"Kathmandu\")\n",
    "g.addNode(\"Lalitpur\")\n",
    "g.addNode(\"Bhaktpur\")\n",
    "g.addNode(\"Nuwakot\")\n",
    "g.addNode(\"Dhadhing\")\n",
    "\n",
    "g.addEdge(\"Kathmandu\", \"Lalitpur\", 10)\n",
    "g.addEdge(\"Kathmandu\", \"Bhaktpur\", 30)\n",
    "g.addEdge(\"Kathmandu\", \"Dhadhing\", 60)\n",
    "g.addEdge(\"Lalitpur\", \"Bhaktpur\", 20)\n",
    "g.addEdge(\"Dhadhing\", \"Nuwakot\", 50)\n",
    "\n",
    "print(g.nodes)\n",
    "print(g.edges)"
   ]
  },
  {
   "cell_type": "code",
   "execution_count": 27,
   "id": "2c565688",
   "metadata": {},
   "outputs": [
    {
     "data": {
      "text/plain": [
       "['Dhadhing']"
      ]
     },
     "execution_count": 27,
     "metadata": {},
     "output_type": "execute_result"
    }
   ],
   "source": [
    "g.successor(\"Kathmandu\")\n",
    "g.predecessor(\"Nuwakot\")"
   ]
  },
  {
   "cell_type": "code",
   "execution_count": 21,
   "id": "c13623d0",
   "metadata": {},
   "outputs": [
    {
     "data": {
      "image/png": "[encoded data removed]",
      "text/plain": [
       "<Figure size 640x480 with 1 Axes>"
      ]
     },
     "metadata": {},
     "output_type": "display_data"
    }
   ],
   "source": [
    "g.plotGraph()"
   ]
  }
 ],
 "metadata": {
  "kernelspec": {
   "display_name": "Python 3 (ipykernel)",
   "language": "python",
   "name": "python3"
  },
  "language_info": {
   "codemirror_mode": {
    "name": "ipython",
    "version": 3
   },
   "file_extension": ".py",
   "mimetype": "text/x-python",
   "name": "python",
   "nbconvert_exporter": "python",
   "pygments_lexer": "ipython3",
   "version": "3.10.7"
  }
 },
 "nbformat": 4,
 "nbformat_minor": 5
}
