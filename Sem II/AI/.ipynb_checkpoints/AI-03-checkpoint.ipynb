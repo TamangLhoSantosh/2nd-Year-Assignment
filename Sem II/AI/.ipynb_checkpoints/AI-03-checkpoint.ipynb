{
 "cells": [
  {
   "cell_type": "markdown",
   "id": "8981b105",
   "metadata": {},
   "source": [
    "# Matrix Operations For Image Processing"
   ]
  },
  {
   "cell_type": "code",
   "execution_count": 7,
   "id": "b561773a",
   "metadata": {},
   "outputs": [],
   "source": [
    "import cv2"
   ]
  },
  {
   "cell_type": "code",
   "execution_count": 8,
   "id": "f7bdba63",
   "metadata": {},
   "outputs": [
    {
     "name": "stdout",
     "output_type": "stream",
     "text": [
      "[[[110 113 111]\n",
      "  [111 114 112]\n",
      "  [110 114 109]\n",
      "  ...\n",
      "  [ 60  70 147]\n",
      "  [ 61  71 149]\n",
      "  [ 62  72 150]]\n",
      "\n",
      " [[109 112 110]\n",
      "  [112 115 113]\n",
      "  [112 116 111]\n",
      "  ...\n",
      "  [ 60  70 148]\n",
      "  [ 62  71 151]\n",
      "  [ 64  73 153]]\n",
      "\n",
      " [[107 110 108]\n",
      "  [110 113 111]\n",
      "  [112 115 113]\n",
      "  ...\n",
      "  [ 58  68 152]\n",
      "  [ 61  71 155]\n",
      "  [ 62  72 156]]\n",
      "\n",
      " ...\n",
      "\n",
      " [[ 19  13   8]\n",
      "  [ 19  13   8]\n",
      "  [ 19  13   8]\n",
      "  ...\n",
      "  [  9   7   7]\n",
      "  [  9   7   7]\n",
      "  [  9   7   7]]\n",
      "\n",
      " [[ 19  13   8]\n",
      "  [ 19  13   8]\n",
      "  [ 20  14   9]\n",
      "  ...\n",
      "  [ 10   8   8]\n",
      "  [  9   7   7]\n",
      "  [  9   7   7]]\n",
      "\n",
      " [[ 18  12   7]\n",
      "  [ 18  12   7]\n",
      "  [ 19  13   8]\n",
      "  ...\n",
      "  [ 10   8   8]\n",
      "  [ 10   8   8]\n",
      "  [ 10   8   8]]]\n",
      "Size of Image 2160 3840\n"
     ]
    }
   ],
   "source": [
    "image = cv2.imread('ShalltearBloodfallenAlbedoAins.jpeg')\n",
    "print(image)\n",
    "print(\"Size of Image\", len(image), len(image[0]))"
   ]
  },
  {
   "cell_type": "code",
   "execution_count": 9,
   "id": "a6322f32",
   "metadata": {},
   "outputs": [
    {
     "name": "stdout",
     "output_type": "stream",
     "text": [
      "[[112 113 112 ...  92  93  94]\n",
      " [111 114 114 ...  92  94  96]\n",
      " [109 112 114 ...  92  95  96]\n",
      " ...\n",
      " [ 12  12  12 ...   7   7   7]\n",
      " [ 12  12  13 ...   8   7   7]\n",
      " [ 11  11  12 ...   8   8   8]]\n"
     ]
    }
   ],
   "source": [
    "gray = cv2.cvtColor(image, cv2.COLOR_BGR2GRAY)\n",
    "print(gray)"
   ]
  },
  {
   "cell_type": "code",
   "execution_count": 10,
   "id": "70969305",
   "metadata": {},
   "outputs": [
    {
     "ename": "KeyboardInterrupt",
     "evalue": "",
     "output_type": "error",
     "traceback": [
      "\u001b[0;31m---------------------------------------------------------------------------\u001b[0m",
      "\u001b[0;31mKeyboardInterrupt\u001b[0m                         Traceback (most recent call last)",
      "Cell \u001b[0;32mIn[10], line 5\u001b[0m\n\u001b[1;32m      2\u001b[0m cv2\u001b[38;5;241m.\u001b[39mimshow(\u001b[38;5;124m\"\u001b[39m\u001b[38;5;124mOriginal\u001b[39m\u001b[38;5;124m\"\u001b[39m, image)\n\u001b[1;32m      3\u001b[0m cv2\u001b[38;5;241m.\u001b[39mimshow(\u001b[38;5;124m\"\u001b[39m\u001b[38;5;124mGray\u001b[39m\u001b[38;5;124m\"\u001b[39m, gray)\n\u001b[0;32m----> 5\u001b[0m key \u001b[38;5;241m=\u001b[39m \u001b[43mcv2\u001b[49m\u001b[38;5;241;43m.\u001b[39;49m\u001b[43mwaitKey\u001b[49m\u001b[43m(\u001b[49m\u001b[38;5;241;43m1\u001b[39;49m\u001b[43m)\u001b[49m\n\u001b[1;32m      6\u001b[0m \u001b[38;5;28;01mif\u001b[39;00m key \u001b[38;5;241m==\u001b[39m \u001b[38;5;124m'\u001b[39m\u001b[38;5;124ma\u001b[39m\u001b[38;5;124m'\u001b[39m:\n\u001b[1;32m      7\u001b[0m     \u001b[38;5;28;01mbreak\u001b[39;00m\n",
      "\u001b[0;31mKeyboardInterrupt\u001b[0m: "
     ]
    }
   ],
   "source": [
    "while True:\n",
    "    cv2.imshow(\"Original\", image)\n",
    "    cv2.imshow(\"Gray\", gray)\n",
    "    \n",
    "    key = cv2.waitKey(1)\n",
    "    if key == 'a':\n",
    "        break\n",
    "\n",
    "cv2.destroyAllWindows()"
   ]
  },
  {
   "cell_type": "code",
   "execution_count": 10,
   "id": "a004fb59",
   "metadata": {},
   "outputs": [],
   "source": [
    "from scipy.ndimage import convolve"
   ]
  },
  {
   "cell_type": "code",
   "execution_count": null,
   "id": "cf962624",
   "metadata": {},
   "outputs": [
    {
     "name": "stdout",
     "output_type": "stream",
     "text": [
      "[[  0   1 253 ...   0 255 255]\n",
      " [254   6   3 ...   0   0   4]\n",
      " [251 255   5 ... 255   3   2]\n",
      " ...\n",
      " [  1   1   1 ... 255   0 255]\n",
      " [  1   0   4 ...   2 254 255]\n",
      " [255 254   0 ...   0   1   1]]\n"
     ]
    }
   ],
   "source": [
    "# Let's try to calculate convolution matrix\n",
    "\n",
    "kernel = [[0,0,0],\n",
    "          [0,1,0],\n",
    "          [0,0,0]]\n",
    "\n",
    "edge_kernel = [[0,-1,0],\n",
    "              [-1,4,-1],\n",
    "              [0,-1,0]]\n",
    "\n",
    "conv = convolve(gray, edge_kernel)\n",
    "\n",
    "print(conv)\n",
    "\n",
    "while True:\n",
    "    cv2.imshow(\"Original\", image)\n",
    "    cv2.imshow(\"Gray\", gray)\n",
    "    cv2.imshow(\"Edge\", conv)\n",
    "    \n",
    "    key = cv2.waitKey(1)\n",
    "    if key == 'a':\n",
    "        break\n",
    "\n",
    "cv2.destroyAllWindows()"
   ]
  },
  {
   "cell_type": "code",
   "execution_count": null,
   "id": "42ffeadc",
   "metadata": {},
   "outputs": [],
   "source": []
  }
 ],
 "metadata": {
  "kernelspec": {
   "display_name": "Python 3 (ipykernel)",
   "language": "python",
   "name": "python3"
  },
  "language_info": {
   "codemirror_mode": {
    "name": "ipython",
    "version": 3
   },
   "file_extension": ".py",
   "mimetype": "text/x-python",
   "name": "python",
   "nbconvert_exporter": "python",
   "pygments_lexer": "ipython3",
   "version": "3.10.7"
  }
 },
 "nbformat": 4,
 "nbformat_minor": 5
}
