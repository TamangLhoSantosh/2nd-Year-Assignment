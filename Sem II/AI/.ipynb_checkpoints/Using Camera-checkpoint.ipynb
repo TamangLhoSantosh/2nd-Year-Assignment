{
 "cells": [
  {
   "cell_type": "code",
   "execution_count": 1,
   "id": "17fe3a20",
   "metadata": {},
   "outputs": [],
   "source": [
    "import cv2"
   ]
  },
  {
   "cell_type": "code",
   "execution_count": 11,
   "id": "07705cd3",
   "metadata": {},
   "outputs": [
    {
     "ename": "AttributeError",
     "evalue": "module 'cv2' has no attribute 'GausssianBlur'",
     "output_type": "error",
     "traceback": [
      "\u001b[0;31m---------------------------------------------------------------------------\u001b[0m",
      "\u001b[0;31mAttributeError\u001b[0m                            Traceback (most recent call last)",
      "Cell \u001b[0;32mIn[11], line 13\u001b[0m\n\u001b[1;32m     10\u001b[0m gray \u001b[38;5;241m=\u001b[39m cv2\u001b[38;5;241m.\u001b[39mcvtColor(frame, cv2\u001b[38;5;241m.\u001b[39mCOLOR_BGR2GRAY)\n\u001b[1;32m     11\u001b[0m cv2\u001b[38;5;241m.\u001b[39mimshow(\u001b[38;5;124m\"\u001b[39m\u001b[38;5;124mGray\u001b[39m\u001b[38;5;124m\"\u001b[39m, gray)\n\u001b[0;32m---> 13\u001b[0m blurred_frame \u001b[38;5;241m=\u001b[39m \u001b[43mcv2\u001b[49m\u001b[38;5;241;43m.\u001b[39;49m\u001b[43mGausssianBlur\u001b[49m(gray, (\u001b[38;5;241m5\u001b[39m,\u001b[38;5;241m5\u001b[39m), \u001b[38;5;241m0\u001b[39m)\n\u001b[1;32m     14\u001b[0m cv2\u001b[38;5;241m.\u001b[39mimshow(\u001b[38;5;124m\"\u001b[39m\u001b[38;5;124mBlurred\u001b[39m\u001b[38;5;124m\"\u001b[39m, blurred_frame)\n\u001b[1;32m     16\u001b[0m canny \u001b[38;5;241m=\u001b[39m cv2\u001b[38;5;241m.\u001b[39mCanny(blurred_frame, \u001b[38;5;241m100\u001b[39m,\u001b[38;5;241m150\u001b[39m)\n",
      "\u001b[0;31mAttributeError\u001b[0m: module 'cv2' has no attribute 'GausssianBlur'"
     ]
    }
   ],
   "source": [
    "vid = cv2.VideoCapture(0)\n",
    "\n",
    "while(True):\n",
    "     # Capture the video frame\n",
    "    # by frame\n",
    "    ret, frame = vid.read()\n",
    "  \n",
    "    # Display the resulting frame\n",
    "    cv2.imshow('Display', frame)\n",
    "    gray = cv2.cvtColor(frame, cv2.COLOR_BGR2GRAY)\n",
    "    cv2.imshow(\"Gray\", gray)\n",
    "    \n",
    "    blurred_frame = cv2.GausssianBlur(gray, (5,5), 0)\n",
    "    cv2.imshow(\"Blurred\", blurred_frame)\n",
    "    \n",
    "    canny = cv2.Canny(blurred_frame, 100,150)\n",
    "    cv2.imshow(\"Canny\", canny)\n",
    "    \n",
    "    \n",
    "    # the 'q' button is set as the\n",
    "    # quitting button you may use any\n",
    "    # desired button of your choice\n",
    "    if cv2.waitKey(1) & 0xFF == ord('q'):\n",
    "        break\n",
    "        \n",
    "# After the loop release the cap object\n",
    "vid.release()\n",
    "# Destroy all the windows\n",
    "cv2.destroyAllWindows()"
   ]
  },
  {
   "cell_type": "code",
   "execution_count": 12,
   "id": "e269bf14",
   "metadata": {},
   "outputs": [],
   "source": [
    "vid.release()\n"
   ]
  },
  {
   "cell_type": "code",
   "execution_count": 2,
   "id": "38d4d7d7",
   "metadata": {},
   "outputs": [
    {
     "ename": "NameError",
     "evalue": "name 'edge' is not defined",
     "output_type": "error",
     "traceback": [
      "\u001b[0;31m---------------------------------------------------------------------------\u001b[0m",
      "\u001b[0;31mNameError\u001b[0m                                 Traceback (most recent call last)",
      "Cell \u001b[0;32mIn[2], line 19\u001b[0m\n\u001b[1;32m     17\u001b[0m cv2\u001b[38;5;241m.\u001b[39mimshow(\u001b[38;5;124m'\u001b[39m\u001b[38;5;124mDisplay\u001b[39m\u001b[38;5;124m'\u001b[39m, frame)\n\u001b[1;32m     18\u001b[0m cv2\u001b[38;5;241m.\u001b[39mimshow(\u001b[38;5;124m\"\u001b[39m\u001b[38;5;124mGray\u001b[39m\u001b[38;5;124m\"\u001b[39m, gray)\n\u001b[0;32m---> 19\u001b[0m cv2\u001b[38;5;241m.\u001b[39mimshow(\u001b[38;5;124m\"\u001b[39m\u001b[38;5;124mEdges\u001b[39m\u001b[38;5;124m\"\u001b[39m, \u001b[43medge\u001b[49m)\n\u001b[1;32m     20\u001b[0m cv2\u001b[38;5;241m.\u001b[39mimshow(\u001b[38;5;124m\"\u001b[39m\u001b[38;5;124mCartoon\u001b[39m\u001b[38;5;124m\"\u001b[39m, cartoon)\n\u001b[1;32m     23\u001b[0m \u001b[38;5;66;03m# the 'q' button is set as the\u001b[39;00m\n\u001b[1;32m     24\u001b[0m \u001b[38;5;66;03m# quitting button you may use any\u001b[39;00m\n\u001b[1;32m     25\u001b[0m \u001b[38;5;66;03m# desired button of your choice\u001b[39;00m\n",
      "\u001b[0;31mNameError\u001b[0m: name 'edge' is not defined"
     ]
    }
   ],
   "source": [
    "vid = cv2.VideoCapture(0)\n",
    "\n",
    "while(True):\n",
    "     # Capture the video frame\n",
    "    # by frame\n",
    "    ret, frame = vid.read()\n",
    "  \n",
    "    # Display the resulting frame\n",
    "    gray = cv2.cvtColor(frame, cv2.COLOR_BGR2GRAY)\n",
    "    \n",
    "    edges = cv2.adaptiveThreshold(gray, 255, cv2.ADAPTIVE_THRESH_MEAN_C, cv2.THRESH_BINARY, 9, 9)\n",
    "    \n",
    "    color = cv2.bilateralFilter(frame, 9, 250, 250)\n",
    "    \n",
    "    cartoon = cv2.bitwise_and(color, color, mask = edges)\n",
    "    \n",
    "    cv2.imshow('Display', frame)\n",
    "    cv2.imshow(\"Gray\", gray)\n",
    "    cv2.imshow(\"Edges\", edges)\n",
    "    cv2.imshow(\"Cartoon\", cartoon)\n",
    "    \n",
    "    \n",
    "    # the 'q' button is set as the\n",
    "    # quitting button you may use any\n",
    "    # desired button of your choice\n",
    "    if cv2.waitKey(1) & 0xFF == ord('q'):\n",
    "        break\n",
    "        \n",
    "# After the loop release the cap object\n",
    "vid.release()\n",
    "# Destroy all the windows\n",
    "cv2.destroyAllWindows()"
   ]
  },
  {
   "cell_type": "code",
   "execution_count": 7,
   "id": "780568cb",
   "metadata": {},
   "outputs": [],
   "source": []
  }
 ],
 "metadata": {
  "kernelspec": {
   "display_name": "Python 3 (ipykernel)",
   "language": "python",
   "name": "python3"
  },
  "language_info": {
   "codemirror_mode": {
    "name": "ipython",
    "version": 3
   },
   "file_extension": ".py",
   "mimetype": "text/x-python",
   "name": "python",
   "nbconvert_exporter": "python",
   "pygments_lexer": "ipython3",
   "version": "3.10.7"
  }
 },
 "nbformat": 4,
 "nbformat_minor": 5
}
