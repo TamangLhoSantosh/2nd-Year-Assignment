{
 "cells": [
  {
   "cell_type": "markdown",
   "id": "217528be",
   "metadata": {},
   "source": [
    "# ANN Foundations\n",
    "\n",
    "## Perception Training Using Error-Corrective Learning"
   ]
  },
  {
   "cell_type": "markdown",
   "id": "c28b818c",
   "metadata": {},
   "source": [
    "### Functional Output Of Perception\n",
    "\n",
    "$$ y = \\sum(x_i * w_i) $$"
   ]
  },
  {
   "cell_type": "code",
   "execution_count": 29,
   "id": "4f31107f",
   "metadata": {},
   "outputs": [],
   "source": [
    "import numpy as np"
   ]
  },
  {
   "cell_type": "code",
   "execution_count": 30,
   "id": "51f43112",
   "metadata": {},
   "outputs": [],
   "source": [
    "# output function\n",
    "\n",
    "def functional_output(inputs, weights):\n",
    "    return np.dot(inputs, weights)"
   ]
  },
  {
   "cell_type": "code",
   "execution_count": 31,
   "id": "a7410939",
   "metadata": {},
   "outputs": [
    {
     "data": {
      "text/plain": [
       "11"
      ]
     },
     "execution_count": 31,
     "metadata": {},
     "output_type": "execute_result"
    }
   ],
   "source": [
    "functional_output([1,2],[3,4])"
   ]
  },
  {
   "cell_type": "code",
   "execution_count": 32,
   "id": "2423fd86",
   "metadata": {},
   "outputs": [],
   "source": [
    "# activation output\n",
    "\n",
    "def activation_otuput(output, threshold):\n",
    "    if output >= threshold:\n",
    "        return 1\n",
    "    else:\n",
    "        return 0"
   ]
  },
  {
   "cell_type": "code",
   "execution_count": 33,
   "id": "507a1611",
   "metadata": {},
   "outputs": [
    {
     "data": {
      "text/plain": [
       "1"
      ]
     },
     "execution_count": 33,
     "metadata": {},
     "output_type": "execute_result"
    }
   ],
   "source": [
    "activation_otuput(11, 3)"
   ]
  },
  {
   "cell_type": "markdown",
   "id": "660965c3",
   "metadata": {},
   "source": [
    "$$ e = g -f $$"
   ]
  },
  {
   "cell_type": "code",
   "execution_count": 34,
   "id": "d6030fe3",
   "metadata": {},
   "outputs": [],
   "source": [
    "def error(activation, expected):\n",
    "    assert len(activation) == len(expected), 'Dimension do not match'\n",
    "    return np.subtract(expected, activation)"
   ]
  },
  {
   "cell_type": "code",
   "execution_count": 35,
   "id": "e282daae",
   "metadata": {},
   "outputs": [
    {
     "data": {
      "text/plain": [
       "array([-2, -1])"
      ]
     },
     "execution_count": 35,
     "metadata": {},
     "output_type": "execute_result"
    }
   ],
   "source": [
    "error([3,2],[1,1])"
   ]
  },
  {
   "cell_type": "code",
   "execution_count": 36,
   "id": "0c560e2a",
   "metadata": {},
   "outputs": [],
   "source": [
    "def update_weight(x, error, learning_rate):\n",
    "    return x * error * learning_rate"
   ]
  },
  {
   "cell_type": "code",
   "execution_count": 37,
   "id": "a9a5d4bc",
   "metadata": {},
   "outputs": [],
   "source": [
    "weight = update_weight(1,2,1)"
   ]
  },
  {
   "cell_type": "code",
   "execution_count": 38,
   "id": "df90b407",
   "metadata": {},
   "outputs": [
    {
     "data": {
      "text/plain": [
       "2"
      ]
     },
     "execution_count": 38,
     "metadata": {},
     "output_type": "execute_result"
    }
   ],
   "source": [
    "weight"
   ]
  },
  {
   "cell_type": "code",
   "execution_count": 39,
   "id": "88779201",
   "metadata": {},
   "outputs": [],
   "source": [
    "class SimpleNN:\n",
    "    \n",
    "    training_data = np.array([[-1, 1, 1, 1],\n",
    "                             [-1, 1, 0, 1],\n",
    "                             [-1, 0, 1, 1],\n",
    "                             [-1, 0, 0 ,0]])\n",
    "    \n",
    "    weights = np.array([0, 0, 1])\n",
    "    \n",
    "    learning_rate = 1\n",
    "    \n",
    "    threshold = 1\n",
    "    \n",
    "    input_data = training_data[:, [0, 1, 2]]\n",
    "    \n",
    "    desired_output = training_data[:, [3]].T[0]"
   ]
  },
  {
   "cell_type": "code",
   "execution_count": 40,
   "id": "4f410401",
   "metadata": {},
   "outputs": [
    {
     "name": "stdout",
     "output_type": "stream",
     "text": [
      "[[-1  1  1  1]\n",
      " [-1  1  0  1]\n",
      " [-1  0  1  1]\n",
      " [-1  0  0  0]]\n",
      "[0 0 1]\n",
      "1\n",
      "1\n",
      "[[-1  1  1]\n",
      " [-1  1  0]\n",
      " [-1  0  1]\n",
      " [-1  0  0]]\n",
      "[1 1 1 0]\n"
     ]
    }
   ],
   "source": [
    "snn = SimpleNN()\n",
    "\n",
    "print(snn.training_data)\n",
    "print(snn.weights)\n",
    "print(snn.learning_rate)\n",
    "print(snn.threshold)\n",
    "print(snn.input_data)\n",
    "print(snn.desired_output)"
   ]
  },
  {
   "cell_type": "code",
   "execution_count": 41,
   "id": "7eae0a82",
   "metadata": {},
   "outputs": [
    {
     "name": "stdout",
     "output_type": "stream",
     "text": [
      "[1 0 1 0]\n"
     ]
    }
   ],
   "source": [
    "y = np.array(functional_output(snn.input_data, snn.weights))\n",
    "print(y)"
   ]
  },
  {
   "cell_type": "code",
   "execution_count": 42,
   "id": "edd238f7",
   "metadata": {},
   "outputs": [
    {
     "name": "stdout",
     "output_type": "stream",
     "text": [
      "[1 0 1 0]\n"
     ]
    }
   ],
   "source": [
    "fy = np.array([activation_otuput(o, snn.threshold) for o in y])\n",
    "print(fy)"
   ]
  },
  {
   "cell_type": "code",
   "execution_count": 43,
   "id": "b97abd58",
   "metadata": {},
   "outputs": [
    {
     "name": "stdout",
     "output_type": "stream",
     "text": [
      "[0 1 0 0]\n"
     ]
    }
   ],
   "source": [
    "err = error(fy, snn.desired_output)\n",
    "\n",
    "print(err)"
   ]
  },
  {
   "cell_type": "code",
   "execution_count": 53,
   "id": "a5a0d771",
   "metadata": {},
   "outputs": [],
   "source": [
    "# Algorithm For Training Using Error-Corrective Learning\n",
    "\n",
    "w = snn.weights\n",
    "\n",
    "counter = 0\n",
    "\n",
    "while not np.array_equal(snn.desired_output, fy):\n",
    "\n",
    "    print(\"Epoch\", np.round(counter%4))\n",
    "    \n",
    "    print(\"weights            input          desired_output         actual_output        error        new_weight\")\n",
    "    \n",
    "    for x in snn.input_data:\n",
    "        \n",
    "        y = np.array(functional_output(x, w))\n",
    "        \n",
    "        fy = np.array([activation_otuput(o, snn.threshold) for o in y])\n",
    "        \n",
    "        err = error(fy, snn.desired_output)\n",
    "        \n",
    "        if err[counter%4] == 0 :\n",
    "            print(w, \"\\t\", x, \"\\t\", snn.desired_output[counter%4],\n",
    "                  \"\\t\\t\\t\", fy[counter%4], \"\\t\\t\", err[counter%4], \"\\t\", w, \"no change\")\n",
    "        \n",
    "        else:\n",
    "            print(w, \"\\t\", x, \"\\t\", snn.desired_output[counter%4], \"\\t\\t\\t\", fy[counter%4], \"\\t\\t\", err[counter%4], \"\\t\", w, \"update weights\")\n",
    "            \n",
    "            w = w + update_weight(snn.input_data[counter%4], err[counter%4], snn.learning_rate)\n",
    "            \n",
    "        counter += 1\n",
    "        \n",
    "    \n",
    "print(snn.training_data)\n",
    "print(snn.weights)\n",
    "print(snn.learning_rate)\n",
    "print(snn.threshold)\n",
    "print(snn.input_data)\n",
    "print(snn.desired_output)"
   ]
  }
 ],
 "metadata": {
  "kernelspec": {
   "display_name": "Python 3 (ipykernel)",
   "language": "python",
   "name": "python3"
  },
  "language_info": {
   "codemirror_mode": {
    "name": "ipython",
    "version": 3
   },
   "file_extension": ".py",
   "mimetype": "text/x-python",
   "name": "python",
   "nbconvert_exporter": "python",
   "pygments_lexer": "ipython3",
   "version": "3.10.7"
  }
 },
 "nbformat": 4,
 "nbformat_minor": 5
}
