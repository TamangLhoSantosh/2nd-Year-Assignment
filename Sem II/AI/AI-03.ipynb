{
 "cells": [
  {
   "cell_type": "markdown",
   "id": "8981b105",
   "metadata": {},
   "source": [
    "# Matrix Operations For Image Processing"
   ]
  },
  {
   "cell_type": "code",
   "execution_count": 2,
   "id": "b561773a",
   "metadata": {},
   "outputs": [],
   "source": [
    "import cv2"
   ]
  },
  {
   "cell_type": "code",
   "execution_count": 3,
   "id": "f7bdba63",
   "metadata": {},
   "outputs": [],
   "source": [
    "image = cv2.imread('ShalltearBloodfallenAlbedoAins.jpeg')\n",
    "# print(image)\n",
    "# print(\"Size of Image\", len(image), len(image[0]))"
   ]
  },
  {
   "cell_type": "code",
   "execution_count": 8,
   "id": "a6322f32",
   "metadata": {},
   "outputs": [
    {
     "name": "stdout",
     "output_type": "stream",
     "text": [
      "[[112 113 112 ...  92  93  94]\n",
      " [111 114 114 ...  92  94  96]\n",
      " [109 112 114 ...  92  95  96]\n",
      " ...\n",
      " [ 12  12  12 ...   7   7   7]\n",
      " [ 12  12  13 ...   8   7   7]\n",
      " [ 11  11  12 ...   8   8   8]]\n"
     ]
    }
   ],
   "source": [
    "gray = cv2.cvtColor(image, cv2.COLOR_BGR2GRAY)\n",
    "print(gray)"
   ]
  },
  {
   "cell_type": "code",
   "execution_count": null,
   "id": "70969305",
   "metadata": {},
   "outputs": [],
   "source": [
    "while True:\n",
    "    cv2.imshow(\"Original\", image)\n",
    "    cv2.imshow(\"Gray\", gray)\n",
    "    \n",
    "    key = cv2.waitKey(1)\n",
    "    if key == ord('a'):\n",
    "        break\n",
    "\n",
    "cv2.destroyAllWindows()"
   ]
  },
  {
   "cell_type": "code",
   "execution_count": 5,
   "id": "a004fb59",
   "metadata": {},
   "outputs": [],
   "source": [
    "from scipy.ndimage import convolve"
   ]
  },
  {
   "cell_type": "code",
   "execution_count": null,
   "id": "cf962624",
   "metadata": {},
   "outputs": [
    {
     "name": "stdout",
     "output_type": "stream",
     "text": [
      "[[  0   1 253 ...   0 255 255]\n",
      " [254   6   3 ...   0   0   4]\n",
      " [251 255   5 ... 255   3   2]\n",
      " ...\n",
      " [  1   1   1 ... 255   0 255]\n",
      " [  1   0   4 ...   2 254 255]\n",
      " [255 254   0 ...   0   1   1]]\n"
     ]
    }
   ],
   "source": [
    "# Let's try to calculate convolution matrix\n",
    "\n",
    "kernel = [[0,0,0],\n",
    "          [0,1,0],\n",
    "          [0,0,0]]\n",
    "\n",
    "edge_kernel = [[0,-1,0],\n",
    "              [-1,4,-1],\n",
    "              [0,-1,0]]\n",
    "\n",
    "sharpen_kernel = [[0,-1,0],\n",
    "              [-1,5,-1],\n",
    "              [0,-1,-1]]\n",
    "\n",
    "conv = convolve(gray, edge_kernel)\n",
    "sharp = convolve(gray, sharpen_kernel)\n",
    "\n",
    "print(conv)\n",
    "\n",
    "while True:\n",
    "    cv2.imshow(\"Original\", image)\n",
    "    cv2.imshow(\"Gray\", gray)\n",
    "    cv2.imshow(\"Edge\", conv)\n",
    "    cv2.imshow(\"Sharp\", sharp)\n",
    "    \n",
    "    \n",
    "    key = cv2.waitKey(1)\n",
    "    if key == 'a':\n",
    "        break\n",
    "\n",
    "cv2.destroyAllWindows()"
   ]
  },
  {
   "cell_type": "code",
   "execution_count": null,
   "id": "42ffeadc",
   "metadata": {},
   "outputs": [],
   "source": []
  }
 ],
 "metadata": {
  "kernelspec": {
   "display_name": "Python 3 (ipykernel)",
   "language": "python",
   "name": "python3"
  },
  "language_info": {
   "codemirror_mode": {
    "name": "ipython",
    "version": 3
   },
   "file_extension": ".py",
   "mimetype": "text/x-python",
   "name": "python",
   "nbconvert_exporter": "python",
   "pygments_lexer": "ipython3",
   "version": "3.10.7"
  }
 },
 "nbformat": 4,
 "nbformat_minor": 5
}
