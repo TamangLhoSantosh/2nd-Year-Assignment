{
 "cells": [
  {
   "cell_type": "code",
   "execution_count": 1,
   "id": "6bd150ba",
   "metadata": {},
   "outputs": [],
   "source": [
    "# importing required modules\n",
    "import math\n",
    "\n",
    "# declaring winner method to determine the winner cluster\n",
    "def winner(weights, sample):\n",
    "    \n",
    "#     declaring output nodes\n",
    "    D0 = 0\n",
    "    D1 = 0\n",
    "    \n",
    "#     determining the winner cluster\n",
    "    for i in range(len(sample)):\n",
    "        D0 = D0 + math.pow((sample[i] - weights[0][i]), 2)\n",
    "        D1 = D1 + math.pow((sample[i] - weights[1][i]), 2)\n",
    "        \n",
    "        if D0 > D1:\n",
    "            return 0\n",
    "        else:\n",
    "            return 1"
   ]
  },
  {
   "cell_type": "code",
   "execution_count": 2,
   "id": "06ea9493",
   "metadata": {},
   "outputs": [],
   "source": [
    "# declaring method to update the required weight\n",
    "def update(weights, sample, J, alpha):\n",
    "          \n",
    "#         updating the weights\n",
    "          for i in range(len(weights)):\n",
    "                weights[J][i] = weights[J][i] + alpha * (sample[i] - weights[J][i])\n",
    "                \n",
    "                return weights"
   ]
  },
  {
   "cell_type": "code",
   "execution_count": 4,
   "id": "161a758d",
   "metadata": {},
   "outputs": [],
   "source": [
    "# Trainig data\n",
    "T = [[1, 1, 0, 0],\n",
    "    [1, 0, 0, 1],\n",
    "    [0, 0, 1, 1],\n",
    "    [0, 0, 0, 1],\n",
    "    [1, 1, 1, 0]]\n",
    "\n",
    "m, n = len(T), len(T[0])\n",
    "\n",
    "weights = [[0.3, 0.4, 0.2, 0.1],\n",
    "          [0.5, 0.6, 0.8, 0.9]]\n",
    "\n",
    "epochs = 5\n",
    "alpha = 0.5\n",
    "\n",
    "# training the network\n",
    "for i in range(epochs):\n",
    "    \n",
    "    for j in range(m):\n",
    "        sample = T[j]\n",
    "        J = winner(weights, sample)\n",
    "        weights = update(weights, sample, J, alpha)"
   ]
  },
  {
   "cell_type": "code",
   "execution_count": 16,
   "id": "4aaa939c",
   "metadata": {},
   "outputs": [
    {
     "name": "stdout",
     "output_type": "stream",
     "text": [
      "Winner Cluster :  1\n"
     ]
    }
   ],
   "source": [
    "s = [1, 0, 0, 0]\n",
    "\n",
    "a = winner(weights, s)\n",
    "print(\"Winner Cluster : \", a)"
   ]
  },
  {
   "cell_type": "code",
   "execution_count": null,
   "id": "5c5ce29c",
   "metadata": {},
   "outputs": [],
   "source": []
  }
 ],
 "metadata": {
  "kernelspec": {
   "display_name": "Python 3 (ipykernel)",
   "language": "python",
   "name": "python3"
  },
  "language_info": {
   "codemirror_mode": {
    "name": "ipython",
    "version": 3
   },
   "file_extension": ".py",
   "mimetype": "text/x-python",
   "name": "python",
   "nbconvert_exporter": "python",
   "pygments_lexer": "ipython3",
   "version": "3.10.7"
  }
 },
 "nbformat": 4,
 "nbformat_minor": 5
}
