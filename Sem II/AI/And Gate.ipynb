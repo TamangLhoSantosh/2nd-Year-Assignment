{
 "cells": [
  {
   "cell_type": "markdown",
   "id": "1acebc1a",
   "metadata": {},
   "source": [
    "# For AND Gate"
   ]
  },
  {
   "cell_type": "code",
   "execution_count": 1,
   "id": "22b402b3",
   "metadata": {},
   "outputs": [],
   "source": [
    "import numpy as np\n",
    "\n",
    "# output function\n",
    "def functional_output(inputs, weights):\n",
    "    return np.dot(inputs, weights)\n",
    "\n",
    "# activation function\n",
    "def activation_function(output, threshold):\n",
    "    if output >= threshold:\n",
    "        return 1\n",
    "    else:\n",
    "        return 2\n",
    "    \n",
    "# error\n",
    "def error(activation, expected):\n",
    "    assert len(activation) == len(expected), 'Dimension do not match'\n",
    "    return np.subtract(expected, activation)\n",
    "\n",
    "# update weight\n",
    "def update_weight(x, error, learning_rate):\n",
    "    return x * error * learning_rate"
   ]
  },
  {
   "cell_type": "code",
   "execution_count": 2,
   "id": "80b362d5",
   "metadata": {},
   "outputs": [],
   "source": [
    "\n",
    "# declaring a class\n",
    "class AndGate:\n",
    "    \n",
    "    training_data = np.array([[-1, 1, 1, 1],\n",
    "                               [-1, 1, 0, 0],\n",
    "                               [-1, 0, 1, 0],\n",
    "                               [-1, 0, 0, 0]])\n",
    "    \n",
    "    weights = np.array([0, 2, 3])\n",
    "    \n",
    "    learning_rate = 1\n",
    "    \n",
    "    threshold = 2\n",
    "    \n",
    "    input_data = training_data[:, [0, 1, 2]]\n",
    "    \n",
    "    desired_output = training_data[:, [3]].T[0]"
   ]
  },
  {
   "cell_type": "code",
   "execution_count": 3,
   "id": "cb0662e6",
   "metadata": {},
   "outputs": [],
   "source": [
    "andgaate = AndGate()"
   ]
  },
  {
   "cell_type": "code",
   "execution_count": 4,
   "id": "548bdffc",
   "metadata": {},
   "outputs": [],
   "source": [
    "w = andgaate.weights\n",
    "\n",
    "counter = 0"
   ]
  },
  {
   "cell_type": "code",
   "execution_count": 5,
   "id": "3b7c630e",
   "metadata": {},
   "outputs": [],
   "source": [
    "y = np.array(functional_output(andgaate.input_data, andgaate.weights))\n",
    "\n",
    "fy = np.array([activation_function(o, andgaate.threshold) for o in y])\n",
    "\n",
    "err = error(fy, andgaate.desired_output)"
   ]
  },
  {
   "cell_type": "code",
   "execution_count": null,
   "id": "42a77926",
   "metadata": {},
   "outputs": [],
   "source": [
    "while not np.array_equal(andgaate.desired_output, fy):\n",
    "\n",
    "    print('Epoch', counter/4)\n",
    "    \n",
    "    print('weight', '\\t\\t', 'input', '\\t', 'desired output', '\\t', 'actual output', '\\t', 'error', '\\t', 'new weights')\n",
    "    \n",
    "    for x in andgaate.input_data:\n",
    "        \n",
    "        y = np.array(functional_output(andgaate.input_data, w))\n",
    "    \n",
    "        fy = np.array([activation_function(o, andgaate.threshold) for o in y])\n",
    "        \n",
    "        err = error(fy, andgaate.desired_output)\n",
    "        \n",
    "        if err[counter%4] == 0:\n",
    "            print(w, '\\t', x, '\\t', andgaate.desired_output[counter%4], '\\t', fy[counter%4], '\\t',\n",
    "                  err[counter%4], '\\t', w, '\\t', 'No Change')\n",
    "            \n",
    "        else:\n",
    "            w = update_weight(x, err[counter%4], andgaate.learning_rate)\n",
    "            print((w, '\\t', x, '\\t', andgaate.desired_output[counter%4], '\\t', fy[counter%4], '\\t',\n",
    "                  err[counter%4], '\\t', w, '\\t', 'Weight Changed'))\n",
    "        \n",
    "        counter += 1"
   ]
  },
  {
   "cell_type": "code",
   "execution_count": null,
   "id": "aaaedc15",
   "metadata": {},
   "outputs": [],
   "source": []
  }
 ],
 "metadata": {
  "kernelspec": {
   "display_name": "Python 3 (ipykernel)",
   "language": "python",
   "name": "python3"
  },
  "language_info": {
   "codemirror_mode": {
    "name": "ipython",
    "version": 3
   },
   "file_extension": ".py",
   "mimetype": "text/x-python",
   "name": "python",
   "nbconvert_exporter": "python",
   "pygments_lexer": "ipython3",
   "version": "3.10.7"
  }
 },
 "nbformat": 4,
 "nbformat_minor": 5
}
