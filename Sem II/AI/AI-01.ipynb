{
 "cells": [
  {
   "cell_type": "markdown",
   "id": "4a7335f5",
   "metadata": {},
   "source": [
    "# Ai Lab 01\n",
    "19 Jan 2023"
   ]
  },
  {
   "cell_type": "markdown",
   "id": "b8769a0e",
   "metadata": {},
   "source": [
    "### Lambda Functions\n",
    "lambda functions are minimal functions.\n",
    "$\\Lambda$\n",
    "$$x = mx + c$$"
   ]
  },
  {
   "cell_type": "markdown",
   "id": "4581b941",
   "metadata": {},
   "source": [
    "## Set Operations\n"
   ]
  },
  {
   "cell_type": "code",
   "execution_count": 2,
   "id": "66d8a19e",
   "metadata": {},
   "outputs": [
    {
     "name": "stdout",
     "output_type": "stream",
     "text": [
      "{1, 2, (3, 4)}\n"
     ]
    }
   ],
   "source": [
    "s1 = {1,2,(3,4)}\n",
    "print(s1)"
   ]
  },
  {
   "cell_type": "code",
   "execution_count": 3,
   "id": "b5de96a0",
   "metadata": {},
   "outputs": [
    {
     "name": "stdout",
     "output_type": "stream",
     "text": [
      "{1, 2, (3, 4), 6}\n"
     ]
    }
   ],
   "source": [
    "# adding elements into the set\n",
    "s1.add(6)\n",
    "\n",
    "print(s1)"
   ]
  },
  {
   "cell_type": "code",
   "execution_count": 4,
   "id": "2c694a0d",
   "metadata": {},
   "outputs": [
    {
     "name": "stdout",
     "output_type": "stream",
     "text": [
      "{1, 2, (3, 4), 6}\n"
     ]
    }
   ],
   "source": [
    "s1.add(2)\n",
    "\n",
    "print(s1)"
   ]
  },
  {
   "cell_type": "code",
   "execution_count": 5,
   "id": "4ff4d3a9",
   "metadata": {},
   "outputs": [
    {
     "name": "stdout",
     "output_type": "stream",
     "text": [
      "{1, 2, (3, 4), 6, 7, 8, 9}\n"
     ]
    }
   ],
   "source": [
    "s1.update([7,8,9])\n",
    "\n",
    "print(s1)"
   ]
  },
  {
   "cell_type": "code",
   "execution_count": 6,
   "id": "e03163a1",
   "metadata": {},
   "outputs": [
    {
     "ename": "KeyError",
     "evalue": "10",
     "output_type": "error",
     "traceback": [
      "\u001b[0;31m---------------------------------------------------------------------------\u001b[0m",
      "\u001b[0;31mKeyError\u001b[0m                                  Traceback (most recent call last)",
      "Cell \u001b[0;32mIn[6], line 1\u001b[0m\n\u001b[0;32m----> 1\u001b[0m \u001b[43ms1\u001b[49m\u001b[38;5;241;43m.\u001b[39;49m\u001b[43mremove\u001b[49m\u001b[43m(\u001b[49m\u001b[38;5;241;43m10\u001b[39;49m\u001b[43m)\u001b[49m\n",
      "\u001b[0;31mKeyError\u001b[0m: 10"
     ]
    }
   ],
   "source": [
    "s1.remove(10)"
   ]
  },
  {
   "cell_type": "code",
   "execution_count": 7,
   "id": "e00a1717",
   "metadata": {},
   "outputs": [],
   "source": [
    "s2={1,2,9,10}"
   ]
  },
  {
   "cell_type": "code",
   "execution_count": 8,
   "id": "674a03a4",
   "metadata": {},
   "outputs": [
    {
     "ename": "TypeError",
     "evalue": "unhashable type: 'set'",
     "output_type": "error",
     "traceback": [
      "\u001b[0;31m---------------------------------------------------------------------------\u001b[0m",
      "\u001b[0;31mTypeError\u001b[0m                                 Traceback (most recent call last)",
      "Cell \u001b[0;32mIn[8], line 1\u001b[0m\n\u001b[0;32m----> 1\u001b[0m \u001b[43ms1\u001b[49m\u001b[38;5;241;43m.\u001b[39;49m\u001b[43madd\u001b[49m\u001b[43m(\u001b[49m\u001b[43ms2\u001b[49m\u001b[43m)\u001b[49m\n",
      "\u001b[0;31mTypeError\u001b[0m: unhashable type: 'set'"
     ]
    }
   ],
   "source": [
    "s1.add(s2)"
   ]
  },
  {
   "cell_type": "code",
   "execution_count": 9,
   "id": "468aa7cd",
   "metadata": {},
   "outputs": [
    {
     "data": {
      "text/plain": [
       "{(3, 4), 1, 10, 2, 6, 7, 8, 9}"
      ]
     },
     "execution_count": 9,
     "metadata": {},
     "output_type": "execute_result"
    }
   ],
   "source": [
    "s1|s2"
   ]
  },
  {
   "cell_type": "code",
   "execution_count": 10,
   "id": "94a956ac",
   "metadata": {},
   "outputs": [
    {
     "name": "stdout",
     "output_type": "stream",
     "text": [
      "{1, 2, (3, 4), 6, 7, 8, 9, 10}\n"
     ]
    }
   ],
   "source": [
    "s3 = s1.union(s2)\n",
    "\n",
    "print(s3)"
   ]
  },
  {
   "cell_type": "code",
   "execution_count": 11,
   "id": "1e941e77",
   "metadata": {},
   "outputs": [
    {
     "name": "stdout",
     "output_type": "stream",
     "text": [
      "{1, 2, 9}\n"
     ]
    }
   ],
   "source": [
    "s4 = s1 & s2\n",
    "\n",
    "print(s4)"
   ]
  },
  {
   "cell_type": "code",
   "execution_count": 12,
   "id": "a97091b7",
   "metadata": {},
   "outputs": [
    {
     "name": "stdout",
     "output_type": "stream",
     "text": [
      "{8, (3, 4), 6, 7}\n"
     ]
    }
   ],
   "source": [
    "print(s1-s2)"
   ]
  },
  {
   "cell_type": "code",
   "execution_count": 13,
   "id": "7b245f9a",
   "metadata": {},
   "outputs": [
    {
     "name": "stdout",
     "output_type": "stream",
     "text": [
      "{(3, 4), 6, 7, 8, 10}\n"
     ]
    }
   ],
   "source": [
    "print(s1^s2)"
   ]
  },
  {
   "cell_type": "code",
   "execution_count": 14,
   "id": "7ea165de",
   "metadata": {},
   "outputs": [
    {
     "name": "stdout",
     "output_type": "stream",
     "text": [
      "Match Found\n"
     ]
    }
   ],
   "source": [
    "import re\n",
    "\n",
    "pattern = \"^P..S$\"\n",
    "str = \"PCPS\"\n",
    "result = re.match(pattern, str)\n",
    "\n",
    "if result:\n",
    "    print(\"Match Found\")\n",
    "else:\n",
    "    print(\"Match Not Found\")"
   ]
  },
  {
   "cell_type": "code",
   "execution_count": 19,
   "id": "ca2e09d8",
   "metadata": {},
   "outputs": [
    {
     "name": "stdout",
     "output_type": "stream",
     "text": [
      "['5', '4', '1']\n"
     ]
    }
   ],
   "source": [
    "pattern = \"\\d+\"\n",
    "str=\"Adam had 5 apples. He gave 4 of them to Eve. Now he has 1 apple.\"\n",
    "result1 = re.findall(pattern, str)\n",
    "print(result1)"
   ]
  },
  {
   "cell_type": "markdown",
   "id": "a5c66889",
   "metadata": {},
   "source": [
    "$mat_b$"
   ]
  },
  {
   "cell_type": "code",
   "execution_count": 22,
   "id": "6335bc78",
   "metadata": {},
   "outputs": [
    {
     "name": "stdout",
     "output_type": "stream",
     "text": [
      "[67 40]\n"
     ]
    }
   ],
   "source": [
    "import numpy as np\n",
    "\n",
    "mat_a = [2,3,4]\n",
    "mat_b = [[5,6],[7,8],[9,1]]\n",
    "ans = np.matmul(mat_a, mat_b)\n",
    "\n",
    "print(ans)"
   ]
  },
  {
   "cell_type": "code",
   "execution_count": 27,
   "id": "2699f217",
   "metadata": {},
   "outputs": [
    {
     "name": "stdout",
     "output_type": "stream",
     "text": [
      "56\n"
     ]
    }
   ],
   "source": [
    "dot = np.dot([2,3,4], [5,6,7])\n",
    "print(dot)"
   ]
  },
  {
   "cell_type": "markdown",
   "id": "95a8fe3c",
   "metadata": {},
   "source": [
    "# Data Visualization"
   ]
  },
  {
   "cell_type": "code",
   "execution_count": 39,
   "id": "18218599",
   "metadata": {},
   "outputs": [
    {
     "data": {
      "image/png": "[encoded data removed]",
      "text/plain": [
       "<Figure size 640x480 with 1 Axes>"
      ]
     },
     "metadata": {},
     "output_type": "display_data"
    }
   ],
   "source": [
    "from matplotlib import pyplot as plt\n",
    "\n",
    "subjects = ['POP', 'Database', 'Networking']\n",
    "marks = [80,70,80]\n",
    "\n",
    "plt.xlabel(\"Subjects\" + u\"\\u2192\")\n",
    "plt.ylabel(\"Marks\" + u\"\\u2192\")\n",
    "\n",
    "plt.xticks(range(len(subjects)), subjects)\n",
    "\n",
    "plt.bar(range(len(subjects)), marks)\n",
    "\n",
    "plt.title(\"Marks in Subjects\")\n",
    "\n",
    "plt.show()"
   ]
  },
  {
   "cell_type": "markdown",
   "id": "154be889",
   "metadata": {},
   "source": [
    "# Using Pandas"
   ]
  },
  {
   "cell_type": "code",
   "execution_count": 107,
   "id": "17fad487",
   "metadata": {},
   "outputs": [
    {
     "data": {
      "image/png": "[encoded data removed]",
      "text/plain": [
       "<Figure size 640x480 with 1 Axes>"
      ]
     },
     "metadata": {},
     "output_type": "display_data"
    }
   ],
   "source": [
    "import pandas as pd\n",
    "from matplotlib import pyplot as plt\n",
    "\n",
    "df = pd.read_csv('GDP.csv')\n",
    "\n",
    "countries = df.loc[:, \"Country\"]\n",
    "\n",
    "gdps = df.loc[:, \"GDP\"]\n",
    "\n",
    "plt.title(\"GDP of Countries\")\n",
    "\n",
    "plt.ylabel(\"GPD\" + u\"\\u2192\")\n",
    "\n",
    "plt.xlabel(\"Countries\" + u\"\\u2192\")\n",
    "\n",
    "plt.xticks(range(len(countries)), countries)\n",
    "\n",
    "plt.bar(range(len(countries)), gdps)\n",
    "\n",
    "plt.show()"
   ]
  },
  {
   "cell_type": "code",
   "execution_count": null,
   "id": "d4c97426",
   "metadata": {},
   "outputs": [],
   "source": []
  }
 ],
 "metadata": {
  "kernelspec": {
   "display_name": "Python 3 (ipykernel)",
   "language": "python",
   "name": "python3"
  },
  "language_info": {
   "codemirror_mode": {
    "name": "ipython",
    "version": 3
   },
   "file_extension": ".py",
   "mimetype": "text/x-python",
   "name": "python",
   "nbconvert_exporter": "python",
   "pygments_lexer": "ipython3",
   "version": "3.10.7"
  }
 },
 "nbformat": 4,
 "nbformat_minor": 5
}
