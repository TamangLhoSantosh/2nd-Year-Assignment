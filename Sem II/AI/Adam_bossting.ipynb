{
 "cells": [
  {
   "cell_type": "code",
   "execution_count": 17,
   "id": "690a645e",
   "metadata": {},
   "outputs": [],
   "source": [
    "from sklearn.ensemble import AdaBoostClassifier\n",
    "from sklearn import decomposition\n",
    "from sklearn import datasets\n",
    "from sklearn.model_selection import train_test_split\n",
    "from sklearn import metrics"
   ]
  },
  {
   "cell_type": "code",
   "execution_count": 18,
   "id": "386eff71",
   "metadata": {},
   "outputs": [],
   "source": [
    "# loading datasets\n",
    "iris = datasets.load_iris()\n",
    "X = iris.data\n",
    "Y = iris.target"
   ]
  },
  {
   "cell_type": "code",
   "execution_count": 24,
   "id": "020173f6",
   "metadata": {},
   "outputs": [],
   "source": [
    "# dividing the data for train and test\n",
    "X_train, X_test, Y_train, Y_test = train_test_split(X, Y, test_size = 0.3)"
   ]
  },
  {
   "cell_type": "code",
   "execution_count": 25,
   "id": "c12d6d22",
   "metadata": {},
   "outputs": [
    {
     "name": "stdout",
     "output_type": "stream",
     "text": [
      "Epoch time :  0:00:00.019630\n"
     ]
    }
   ],
   "source": [
    "import datetime\n",
    "\n",
    "start_timer = datetime.datetime.now()\n",
    "\n",
    "# Addabooster classifier\n",
    "adbost = AdaBoostClassifier(n_estimators=10, learning_rate=0.1)\n",
    "\n",
    "# train\n",
    "model = adbost.fit(X_train, Y_train)\n",
    "\n",
    "end_time = datetime.datetime.now()\n",
    "\n",
    "print(\"Epoch time : \", end_time - start_timer)"
   ]
  },
  {
   "cell_type": "code",
   "execution_count": 27,
   "id": "a7b7e463",
   "metadata": {},
   "outputs": [],
   "source": [
    "# Use the model/predictor to predict\n",
    "Y_pred = model.predict(X_test)"
   ]
  },
  {
   "cell_type": "code",
   "execution_count": 28,
   "id": "23195b8d",
   "metadata": {},
   "outputs": [
    {
     "name": "stdout",
     "output_type": "stream",
     "text": [
      "Accuracy :  0.8888888888888888\n"
     ]
    }
   ],
   "source": [
    "# viewing the accuracy\n",
    "print('Accuracy : ', metrics.accuracy_score(Y_test, Y_pred))"
   ]
  },
  {
   "cell_type": "code",
   "execution_count": 29,
   "id": "602c2f04",
   "metadata": {},
   "outputs": [
    {
     "name": "stdout",
     "output_type": "stream",
     "text": [
      "Cross Validation Scores :  [1.         0.93333333 1.         0.93333333 0.93333333 0.73333333\n",
      " 0.86666667 0.93333333 1.         1.        ]\n",
      "Average Accuracy :  0.9333333333333333\n"
     ]
    }
   ],
   "source": [
    "import numpy as np\n",
    "from sklearn.model_selection import cross_val_score\n",
    "\n",
    "cross_val_result = cross_val_score(adbost, X, Y, cv=10)\n",
    "\n",
    "print(\"Cross Validation Scores : \", cross_val_result)\n",
    "print(\"Average Accuracy : \", np.mean(cross_val_result))"
   ]
  },
  {
   "cell_type": "code",
   "execution_count": 1,
   "id": "ef37223b",
   "metadata": {},
   "outputs": [],
   "source": [
    "# adaboost\n",
    "from sklearn.datasets import load_breast_cancer\n",
    "\n",
    "cancer_data = load_breast_cancer()"
   ]
  },
  {
   "cell_type": "code",
   "execution_count": 27,
   "id": "1b046ce4",
   "metadata": {},
   "outputs": [],
   "source": [
    "from sklearn.model_selection import train_test_split\n",
    "\n",
    "X, y = cancer_data.data, cancer_data.target\n",
    "\n",
    "X_train, X_test, y_train, y_test = train_test_split(X, y, random_state=40)"
   ]
  },
  {
   "cell_type": "code",
   "execution_count": 28,
   "id": "531f8f65",
   "metadata": {},
   "outputs": [],
   "source": [
    "from sklearn.ensemble import AdaBoostClassifier\n",
    "from sklearn.tree import DecisionTreeClassifier\n",
    "\n",
    "ada_clf = AdaBoostClassifier(DecisionTreeClassifier(max_depth=1), n_estimators=150, algorithm='SAMME.R',\n",
    "                            learning_rate=0.2, random_state=40)"
   ]
  },
  {
   "cell_type": "code",
   "execution_count": 29,
   "id": "006c2193",
   "metadata": {},
   "outputs": [
    {
     "name": "stdout",
     "output_type": "stream",
     "text": [
      "Time :  0:00:00.319895\n"
     ]
    }
   ],
   "source": [
    "import datetime\n",
    "\n",
    "start_t = datetime.datetime.now()\n",
    "\n",
    "ada_clf.fit(X_train, y_train)\n",
    "\n",
    "end_t = datetime.datetime.now()\n",
    "\n",
    "print(\"Time : \", end_t-start_t)"
   ]
  },
  {
   "cell_type": "code",
   "execution_count": 30,
   "id": "8a63b4a4",
   "metadata": {},
   "outputs": [
    {
     "name": "stdout",
     "output_type": "stream",
     "text": [
      "[1 0 1 1 0 1 1 1 0 1 0 1 1 1 0 1 1 1 1 1 1 0 1 0 0 0 0 0 1 1 1 0 0 1 1 1 1\n",
      " 0 1 1 0 1 1 1 0 0 1 1 0 1 0 1 1 1 1 1 0 1 0 1 1 0 1 1 1 0 0 0 1 1 0 0 0 1\n",
      " 0 0 0 1 1 1 1 1 0 1 0 1 0 0 1 0 1 1 1 1 1 0 1 1 1 1 1 1 1 0 1 1 1 0 1 1 1\n",
      " 1 0 1 0 1 1 1 1 0 0 1 1 1 1 0 0 1 1 1 1 1 1 1 1 1 1 1 0 1 0 1 1]\n"
     ]
    }
   ],
   "source": [
    "y_pred = ada_clf.predict(X_test)\n",
    "\n",
    "print(y_pred)"
   ]
  },
  {
   "cell_type": "code",
   "execution_count": 31,
   "id": "d951d985",
   "metadata": {},
   "outputs": [
    {
     "name": "stdout",
     "output_type": "stream",
     "text": [
      "0.958041958041958\n"
     ]
    }
   ],
   "source": [
    "from sklearn.metrics import accuracy_score\n",
    "\n",
    "print(accuracy_score(y_test, y_pred))"
   ]
  },
  {
   "cell_type": "code",
   "execution_count": null,
   "id": "219b34c3",
   "metadata": {},
   "outputs": [],
   "source": []
  }
 ],
 "metadata": {
  "kernelspec": {
   "display_name": "Python 3 (ipykernel)",
   "language": "python",
   "name": "python3"
  },
  "language_info": {
   "codemirror_mode": {
    "name": "ipython",
    "version": 3
   },
   "file_extension": ".py",
   "mimetype": "text/x-python",
   "name": "python",
   "nbconvert_exporter": "python",
   "pygments_lexer": "ipython3",
   "version": "3.10.7"
  }
 },
 "nbformat": 4,
 "nbformat_minor": 5
}
